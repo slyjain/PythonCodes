{
  "nbformat": 4,
  "nbformat_minor": 0,
  "metadata": {
    "colab": {
      "provenance": [],
      "include_colab_link": true
    },
    "kernelspec": {
      "name": "python3",
      "display_name": "Python 3"
    },
    "language_info": {
      "name": "python"
    }
  },
  "cells": [
    {
      "cell_type": "markdown",
      "metadata": {
        "id": "view-in-github",
        "colab_type": "text"
      },
      "source": [
        "<a href=\"https://colab.research.google.com/github/slyjain/PythonCodes/blob/main/simplest_python_exercises.ipynb\" target=\"_parent\"><img src=\"https://colab.research.google.com/assets/colab-badge.svg\" alt=\"Open In Colab\"/></a>"
      ]
    },
    {
      "cell_type": "markdown",
      "source": [
        "Skeleton"
      ],
      "metadata": {
        "id": "fqgmdDBJE-Gd"
      }
    },
    {
      "cell_type": "code",
      "source": [
        "def find_shortest_even_index(numbers):\n",
        "  mn=10**100\n",
        "  loop=True\n",
        "  while loop and len(numbers)>0:\n",
        "    num=min(numbers)\n",
        "    if num%2==0:\n",
        "      return num\n",
        "    else:\n",
        "      numbers.remove(num)\n",
        "  #FILL THE FUNCTION:\n",
        "  #Find the shortest even number in numbers and return it's position in the list\n",
        "\n",
        "\n",
        "\n",
        "\n",
        "  return #fill in the variables\n",
        "\n",
        "\n",
        "\n",
        "# Sample input\n",
        "numbers = [10, 3, 5, 7, 20, 12, 15, 1, 2]\n",
        "\n",
        "# Call the function and print the result\n",
        "shortest_even_index = find_shortest_even_index(numbers)\n",
        "print(f\"Shortest even number: {shortest_even_index}\")"
      ],
      "metadata": {
        "id": "6LJsz57ZEy_w",
        "colab": {
          "base_uri": "https://localhost:8080/"
        },
        "outputId": "92d7bbf2-6e5a-42ac-b45d-873324e1026c"
      },
      "execution_count": null,
      "outputs": [
        {
          "output_type": "stream",
          "name": "stdout",
          "text": [
            "Shortest even number: 2\n"
          ]
        }
      ]
    },
    {
      "cell_type": "code",
      "source": [
        "def find_most_frequent_number(numbers):\n",
        "  # Initialize the dictionary to store counts\n",
        "  maxCount=0\n",
        "  count_dict = {}\n",
        "  for num in numbers:\n",
        "    if num in count_dict:\n",
        "      count_dict[num]+=1\n",
        "    else:\n",
        "      count_dict[num]=1\n",
        "  most_freq_num=numbers[0]\n",
        "  for num,count in count_dict.items():\n",
        "    if count>maxCount:\n",
        "      most_freq_num=num\n",
        "      maxCount=count\n",
        "  #FILL IN THE FUNCTION - find the number which is the most frequent using count dictionary\n",
        "\n",
        "\n",
        "\n",
        "\n",
        "\n",
        "\n",
        "\n",
        "  # Return the most frequent number\n",
        "  return most_freq_num;\n",
        "\n",
        "# Sample input\n",
        "numbers = [1, 3, 2, 3, 4, 2, 3, 5, 2, 2, 3, 3, 3]\n",
        "\n",
        "# Call the function and print the result\n",
        "most_frequent_number = find_most_frequent_number(numbers)\n",
        "print(f\"Most frequent number: {most_frequent_number}\")"
      ],
      "metadata": {
        "id": "2pMHzGQ6Ge01",
        "colab": {
          "base_uri": "https://localhost:8080/"
        },
        "outputId": "cda67385-8f4d-49c1-96ca-caf6fb59f6be"
      },
      "execution_count": null,
      "outputs": [
        {
          "output_type": "stream",
          "name": "stdout",
          "text": [
            "Most frequent number: 3\n"
          ]
        }
      ]
    },
    {
      "cell_type": "markdown",
      "source": [
        "Solution"
      ],
      "metadata": {
        "id": "8jcG-ROQEztC"
      }
    },
    {
      "cell_type": "code",
      "execution_count": null,
      "metadata": {
        "colab": {
          "base_uri": "https://localhost:8080/"
        },
        "id": "9lEru1p1ErKe",
        "outputId": "6a6db476-9fdb-41ca-c7d7-d382803f25d3"
      },
      "outputs": [
        {
          "output_type": "stream",
          "name": "stdout",
          "text": [
            "Shortest even number index: 8\n"
          ]
        }
      ],
      "source": [
        "def find_shortest_even_index(numbers):\n",
        "    # Initialize the variables\n",
        "    shortest_even = None\n",
        "    shortest_even_index = -1\n",
        "    index = 0\n",
        "\n",
        "    # Iterate through each number in the list\n",
        "    for num in numbers:\n",
        "        # Check if the number is even\n",
        "        if num % 2 == 0:\n",
        "            # Update the shortest_even and its index if this is the first even number\n",
        "            # or if the current even number is shorter than the current shortest_even\n",
        "            if shortest_even is None or num < shortest_even:\n",
        "                shortest_even = num\n",
        "                shortest_even_index = index\n",
        "\n",
        "        # Increment the index counter\n",
        "        index += 1\n",
        "\n",
        "    # Return the index of the shortest even number\n",
        "    return shortest_even_index\n",
        "\n",
        "# Sample input\n",
        "numbers = [10, 3, 5, 7, 20, 12, 15, 6, 2]\n",
        "\n",
        "# Call the function and print the result\n",
        "shortest_even_index = find_shortest_even_index(numbers)\n",
        "print(f\"Shortest even number index: {shortest_even_index}\")"
      ]
    },
    {
      "cell_type": "code",
      "source": [
        "def find_most_frequent_number(numbers):\n",
        "    # Initialize the dictionary to store counts\n",
        "    count_dict = {}\n",
        "\n",
        "    for num in numbers:\n",
        "        if num in count_dict:\n",
        "            count_dict[num] += 1\n",
        "        else:\n",
        "            count_dict[num] = 1\n",
        "\n",
        "    # Initialize variables to find the most frequent number\n",
        "    most_frequent_number = None\n",
        "    max_count = 0\n",
        "\n",
        "    for num, count in count_dict.items():\n",
        "        if count > max_count:\n",
        "            max_count = count\n",
        "            most_frequent_number = num\n",
        "\n",
        "    # Return the most frequent number\n",
        "    return most_frequent_number\n",
        "\n",
        "# Sample input\n",
        "numbers = [1, 3, 2, 3, 4, 2, 3, 5, 2, 2, 3, 3, 3]\n",
        "\n",
        "# Call the function and print the result\n",
        "most_frequent_number = find_most_frequent_number(numbers)\n",
        "print(f\"Most frequent number: {most_frequent_number}\")\n"
      ],
      "metadata": {
        "colab": {
          "base_uri": "https://localhost:8080/"
        },
        "id": "C69PlmYVE38N",
        "outputId": "7c10e6ce-10d6-4605-8d8d-16ba5ed6bb9e"
      },
      "execution_count": null,
      "outputs": [
        {
          "output_type": "stream",
          "name": "stdout",
          "text": [
            "Most frequent number: 3\n"
          ]
        }
      ]
    },
    {
      "cell_type": "code",
      "source": [],
      "metadata": {
        "id": "e6Z18YOqGZ8H"
      },
      "execution_count": null,
      "outputs": []
    }
  ]
}