{
  "nbformat": 4,
  "nbformat_minor": 0,
  "metadata": {
    "colab": {
      "provenance": [],
      "include_colab_link": true
    },
    "kernelspec": {
      "name": "python3",
      "display_name": "Python 3"
    },
    "language_info": {
      "name": "python"
    }
  },
  "cells": [
    {
      "cell_type": "markdown",
      "metadata": {
        "id": "view-in-github",
        "colab_type": "text"
      },
      "source": [
        "<a href=\"https://colab.research.google.com/github/slyjain/PythonCodes/blob/main/coding_exercise_decision_trees.ipynb\" target=\"_parent\"><img src=\"https://colab.research.google.com/assets/colab-badge.svg\" alt=\"Open In Colab\"/></a>"
      ]
    },
    {
      "cell_type": "markdown",
      "source": [
        "**DECISION TREES**"
      ],
      "metadata": {
        "id": "ZgiCSrsg9_5X"
      }
    },
    {
      "cell_type": "code",
      "execution_count": null,
      "metadata": {
        "colab": {
          "base_uri": "https://localhost:8080/"
        },
        "id": "oahQ6tAi89o_",
        "outputId": "90b7c09c-1082-4a20-d90d-b6702e3701e7"
      },
      "outputs": [
        {
          "output_type": "stream",
          "name": "stdout",
          "text": [
            "Best feature to split on: 0\n"
          ]
        }
      ],
      "source": [
        "# Given dataset\n",
        "X = [\n",
        "    [1, 0, 1],  # Sample 1\n",
        "    [1, 1, 0],  # Sample 2\n",
        "    [0, 0, 1],  # Sample 3\n",
        "    [1, 0, 0],  # Sample 4\n",
        "    [0, 1, 1],  # Sample 5\n",
        "    [0, 1, 0],  # Sample 6\n",
        "    [1, 1, 1],  # Sample 7\n",
        "    [0, 0, 0],  # Sample 8\n",
        "    [1, 0, 1],  # Sample 9\n",
        "    [1, 1, 1],  # Sample 10\n",
        "    [0, 1, 0],  # Sample 11\n",
        "    [1, 0, 0],  # Sample 12\n",
        "    [0, 0, 1],  # Sample 13\n",
        "    [0, 1, 1],  # Sample 14\n",
        "    [1, 1, 0],  # Sample 15\n",
        "]\n",
        "\n",
        "y = [0, 1, 1, 1, 1, 0, 1, 0, 1, 1, 0, 1, 1, 0, 1]  # Labels corresponding to the samples\n",
        "\n",
        "# Function to calculate entropy\n",
        "def entropy(y):\n",
        "\n",
        "    from math import log2\n",
        "    unique_labels = set(y)\n",
        "    entropy_value = 0.0\n",
        "    for label in unique_labels:\n",
        "        # TASK 1: Implement the entropy calculation for every value of y (add -p log p where p is the probability of that value of y)\n",
        "        p_label =y.count(label)/len(y)\n",
        "\n",
        "        entropy_value+=p_label\n",
        "\n",
        "    return entropy_value\n",
        "\n",
        "# Function to calculate information gain\n",
        "def information_gain(X, y, feature_index):\n",
        "    # Calculate the entropy before the split and subtract the weighted entropy after the split\n",
        "    entropy_before = entropy(y)\n",
        "\n",
        "    # TASK 2: Split the dataset based on the feature\n",
        "    left_y =[y[i] for i in range(len(y)) if X[i][feature_index]==0]\n",
        "    right_y =[y[i] for i in range(len(y)) if X[i][feature_index]==1]\n",
        "\n",
        "    # Calculate the weighted entropy after the split\n",
        "    left_entropy = entropy(left_y)\n",
        "    right_entropy = entropy(right_y)\n",
        "    weighted_entropy_after = (len(left_y) / len(y)) * left_entropy + (len(right_y) / len(y)) * right_entropy\n",
        "\n",
        "    # TASK 3: Calculate information gain\n",
        "    info_gain =entropy_before-weighted_entrpopy\n",
        "    return info_gain\n",
        "\n",
        "# Function to find the best feature to split the dataset\n",
        "def find_best_feature_to_split(X, y):\n",
        "    # Task 3: Implement the function to find the best feature\n",
        "    best_feature = -1\n",
        "    best_info_gain = -1\n",
        "    n_features = len(X[0])\n",
        "    for feature_index in range(n_features):\n",
        "        gain = information_gain(X, y, feature_index)\n",
        "        if gain > best_info_gain:\n",
        "            best_info_gain = gain\n",
        "            best_feature = feature_index\n",
        "    return best_feature\n",
        "\n",
        "# Find the best feature to split\n",
        "best_feature = find_best_feature_to_split(X, y)\n",
        "print(\"Best feature to split on:\", best_feature)\n"
      ]
    },
    {
      "cell_type": "markdown",
      "source": [
        "**SOLUTION**"
      ],
      "metadata": {
        "id": "6T1hm4Ov9-Kl"
      }
    },
    {
      "cell_type": "code",
      "source": [
        "# Given dataset\n",
        "X = [\n",
        "    [1, 0, 1],  # Sample 1\n",
        "    [1, 1, 0],  # Sample 2\n",
        "    [0, 0, 1],  # Sample 3\n",
        "    [1, 0, 0],  # Sample 4\n",
        "    [0, 1, 1],  # Sample 5\n",
        "    [0, 1, 0],  # Sample 6\n",
        "    [1, 1, 1],  # Sample 7\n",
        "    [0, 0, 0],  # Sample 8\n",
        "    [1, 0, 1],  # Sample 9\n",
        "    [1, 1, 1],  # Sample 10\n",
        "    [0, 1, 0],  # Sample 11\n",
        "    [1, 0, 0],  # Sample 12\n",
        "    [0, 0, 1],  # Sample 13\n",
        "    [0, 1, 1],  # Sample 14\n",
        "    [1, 1, 0],  # Sample 15\n",
        "]\n",
        "\n",
        "y = [0, 1, 1, 1, 1, 0, 1, 0, 1, 1, 0, 1, 1, 0, 1]  # Labels corresponding to the samples\n",
        "\n",
        "# Function to calculate entropy\n",
        "def entropy(y):\n",
        "    from math import log2\n",
        "    unique_labels = set(y)\n",
        "    entropy_value = 0.0\n",
        "    for label in unique_labels:\n",
        "        # TASK 1: Implement the entropy calculation for every value of y (add -p log p where p is the probability of that value of y)\n",
        "        p_label = y.count(label) / len(y)\n",
        "        entropy_value -= p_label * log2(p_label)\n",
        "    return entropy_value\n",
        "\n",
        "# Function to calculate information gain\n",
        "def information_gain(X, y, feature_index):\n",
        "    # Calculate the entropy before the split and subtract the weighted entropy after the split\n",
        "    entropy_before = entropy(y)\n",
        "\n",
        "    # TASK 2: Split the dataset based on the feature\n",
        "    left_y = [y[i] for i in range(len(X)) if X[i][feature_index] == 0]\n",
        "    right_y = [y[i] for i in range(len(X)) if X[i][feature_index] == 1]\n",
        "\n",
        "    # Calculate the weighted entropy after the split\n",
        "    left_entropy = entropy(left_y)\n",
        "    right_entropy = entropy(right_y)\n",
        "    weighted_entropy_after = (len(left_y) / len(y)) * left_entropy + (len(right_y) / len(y)) * right_entropy\n",
        "\n",
        "    # TASK 3: Calculate information gain\n",
        "    info_gain = entropy_before - weighted_entropy_after\n",
        "    return info_gain\n",
        "\n",
        "# Function to find the best feature to split the dataset\n",
        "def find_best_feature_to_split(X, y):\n",
        "    # Task 3: Implement the function to find the best feature\n",
        "    best_feature = -1\n",
        "    best_info_gain = -1\n",
        "    n_features = len(X[0])\n",
        "    for feature_index in range(n_features):\n",
        "        gain = information_gain(X, y, feature_index)\n",
        "        if gain > best_info_gain:\n",
        "            best_info_gain = gain\n",
        "            best_feature = feature_index\n",
        "    return best_feature\n",
        "\n",
        "# Find the best feature to split\n",
        "best_feature = find_best_feature_to_split(X, y)\n",
        "print(\"Best feature to split on:\", best_feature)\n"
      ],
      "metadata": {
        "id": "GdYrZgWG9GHG"
      },
      "execution_count": null,
      "outputs": []
    }
  ]
}